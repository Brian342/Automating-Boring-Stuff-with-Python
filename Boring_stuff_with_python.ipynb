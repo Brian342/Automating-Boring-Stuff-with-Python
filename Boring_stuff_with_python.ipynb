{
  "nbformat": 4,
  "nbformat_minor": 0,
  "metadata": {
    "colab": {
      "provenance": [],
      "authorship_tag": "ABX9TyMqkQqblI39GLTCNEzYVADz",
      "include_colab_link": true
    },
    "kernelspec": {
      "name": "python3",
      "display_name": "Python 3"
    },
    "language_info": {
      "name": "python"
    }
  },
  "cells": [
    {
      "cell_type": "markdown",
      "metadata": {
        "id": "view-in-github",
        "colab_type": "text"
      },
      "source": [
        "<a href=\"https://colab.research.google.com/github/Brian342/Automating-Boring-Stuff-with-Python/blob/main/Boring_stuff_with_python.ipynb\" target=\"_parent\"><img src=\"https://colab.research.google.com/assets/colab-badge.svg\" alt=\"Open In Colab\"/></a>"
      ]
    },
    {
      "cell_type": "markdown",
      "source": [
        "# Matching one or more with the plus"
      ],
      "metadata": {
        "id": "A8Z43g9H_cdf"
      }
    },
    {
      "cell_type": "code",
      "source": [
        "import regex as re\n",
        "batRegex = re.compile(r'Bat(wo)+man')\n",
        "mo1 = batRegex.search('The adventures of Batwoman')\n",
        "print(mo1.group())"
      ],
      "metadata": {
        "colab": {
          "base_uri": "https://localhost:8080/"
        },
        "id": "jYWrnaYS_bEH",
        "outputId": "f26d3c3b-f89d-4c1e-cdff-98c821c0f38d"
      },
      "execution_count": 2,
      "outputs": [
        {
          "output_type": "stream",
          "name": "stdout",
          "text": [
            "Batwoman\n"
          ]
        }
      ]
    },
    {
      "cell_type": "code",
      "source": [
        "mo2 = batRegex.search('the adventures of Batwowowoman')\n",
        "print(mo2.group())"
      ],
      "metadata": {
        "colab": {
          "base_uri": "https://localhost:8080/"
        },
        "id": "ZKjNToxXCJhx",
        "outputId": "6c10de0e-d7b6-48d4-f17e-3f6cf80a30aa"
      },
      "execution_count": null,
      "outputs": [
        {
          "output_type": "stream",
          "name": "stdout",
          "text": [
            "Batwowowoman\n"
          ]
        }
      ]
    },
    {
      "cell_type": "code",
      "source": [
        "mo3 = batRegex.search('the adventures of Batman')\n",
        "print(mo3 == None)"
      ],
      "metadata": {
        "colab": {
          "base_uri": "https://localhost:8080/"
        },
        "id": "lJWAsTQxCJ4s",
        "outputId": "f1ce64cf-f6bc-432c-b0fb-eca27938d886"
      },
      "execution_count": null,
      "outputs": [
        {
          "output_type": "stream",
          "name": "stdout",
          "text": [
            "True\n"
          ]
        }
      ]
    },
    {
      "cell_type": "markdown",
      "source": [
        "# Matching Specific Repetitions with curly Brackest"
      ],
      "metadata": {
        "id": "peQhYWCnEMqp"
      }
    },
    {
      "cell_type": "code",
      "source": [
        "haRegex = re.compile(r'(Ha){3}')\n",
        "mo1 = haRegex.search('HaHaHa')\n",
        "print(mo1.group())"
      ],
      "metadata": {
        "colab": {
          "base_uri": "https://localhost:8080/"
        },
        "id": "hy822N4cCJ85",
        "outputId": "19701b28-2b01-4e2b-a7b2-4033ac606ad2"
      },
      "execution_count": null,
      "outputs": [
        {
          "output_type": "stream",
          "name": "stdout",
          "text": [
            "HaHaHa\n"
          ]
        }
      ]
    },
    {
      "cell_type": "code",
      "source": [
        "mo2 = haRegex.search('Ha')\n",
        "print(mo2 == None)"
      ],
      "metadata": {
        "colab": {
          "base_uri": "https://localhost:8080/"
        },
        "id": "6yrW0eL7CKAn",
        "outputId": "f27cde39-cf72-496e-a1c9-9780d24dc1fd"
      },
      "execution_count": null,
      "outputs": [
        {
          "output_type": "stream",
          "name": "stdout",
          "text": [
            "True\n"
          ]
        }
      ]
    },
    {
      "cell_type": "markdown",
      "source": [
        "# Greedy and Nongreedy Matching\n"
      ],
      "metadata": {
        "id": "1AZjdImJHLkM"
      }
    },
    {
      "cell_type": "code",
      "source": [
        "greedyHaRegex = re.compile(r'(Ha){3,5}')\n",
        "mo1 = greedyHaRegex.search('HaHaHaHaHaHa')\n",
        "print(mo1.group())"
      ],
      "metadata": {
        "colab": {
          "base_uri": "https://localhost:8080/"
        },
        "id": "OKQRsHSbCKDw",
        "outputId": "d41fb869-6e7c-4a8c-d891-eeb3158c707d"
      },
      "execution_count": null,
      "outputs": [
        {
          "output_type": "stream",
          "name": "stdout",
          "text": [
            "HaHaHaHaHa\n"
          ]
        }
      ]
    },
    {
      "cell_type": "code",
      "source": [
        "nongreedyHaRegex = re.compile(r'(Ha){3,5}?')\n",
        "mo2 = nongreedyHaRegex.search('HaHaHaHaHaHa')\n",
        "print(mo2.group())"
      ],
      "metadata": {
        "colab": {
          "base_uri": "https://localhost:8080/"
        },
        "id": "u-dx83T-CKHZ",
        "outputId": "1c354eda-8719-4ab9-b8fb-36a9fe47a3cf"
      },
      "execution_count": null,
      "outputs": [
        {
          "output_type": "stream",
          "name": "stdout",
          "text": [
            "HaHaHa\n"
          ]
        }
      ]
    },
    {
      "cell_type": "markdown",
      "source": [
        "# The findall() method"
      ],
      "metadata": {
        "id": "We1CeaLOIb4f"
      }
    },
    {
      "cell_type": "code",
      "source": [
        "phoneNumRegex = re.compile(r'\\d\\d\\d-\\d\\d\\d-\\d\\d\\d\\d')\n",
        "mo = phoneNumRegex.search('cell:415-555-9999 work:222-555-0000')\n",
        "print(mo.group())"
      ],
      "metadata": {
        "colab": {
          "base_uri": "https://localhost:8080/"
        },
        "id": "C2N-Ruz4CKLL",
        "outputId": "1ddfca40-628b-464f-a374-3aeaa13aa992"
      },
      "execution_count": null,
      "outputs": [
        {
          "output_type": "stream",
          "name": "stdout",
          "text": [
            "415-555-9999\n"
          ]
        }
      ]
    },
    {
      "cell_type": "code",
      "source": [
        "phoneNumRegex = re.compile(r'\\d\\d\\d-\\d\\d\\d-\\d\\d\\d\\d') # has no groups\n",
        "phoneNumRegex.findall('cell:415-555-9999 work:222-555-0000')"
      ],
      "metadata": {
        "id": "bSb-wfYlCKN5"
      },
      "execution_count": null,
      "outputs": []
    },
    {
      "cell_type": "code",
      "source": [
        " phoneNumRegex = re.compile(r'\\d\\d\\d-\\d\\d\\d-\\d\\d\\d\\d') # has no groups\n",
        " phoneNumRegex.findall('cell:415-555-9999 work:222-555-0000')"
      ],
      "metadata": {
        "id": "ixGVgERxCKRv",
        "colab": {
          "base_uri": "https://localhost:8080/"
        },
        "outputId": "560a09f5-6a93-4a8b-b303-368c90f7f5df"
      },
      "execution_count": 3,
      "outputs": [
        {
          "output_type": "execute_result",
          "data": {
            "text/plain": [
              "['415-555-9999', '222-555-0000']"
            ]
          },
          "metadata": {},
          "execution_count": 3
        }
      ]
    },
    {
      "cell_type": "code",
      "source": [
        "phoneNumRegex = re.compile(r'(\\d\\d\\d)-(\\d\\d\\d)-(\\d\\d\\d\\d)') # has groups\n",
        "phoneNumRegex.findall('cell:415-555-9999 work:222-555-0000')"
      ],
      "metadata": {
        "id": "cjkMlgRrCKWD",
        "colab": {
          "base_uri": "https://localhost:8080/"
        },
        "outputId": "80a0e48a-72bc-4911-e4a9-d7b4721eea99"
      },
      "execution_count": 4,
      "outputs": [
        {
          "output_type": "execute_result",
          "data": {
            "text/plain": [
              "[('415', '555', '9999'), ('222', '555', '0000')]"
            ]
          },
          "metadata": {},
          "execution_count": 4
        }
      ]
    },
    {
      "cell_type": "code",
      "source": [],
      "metadata": {
        "id": "JdMjM-lxCKly"
      },
      "execution_count": null,
      "outputs": []
    },
    {
      "cell_type": "code",
      "source": [],
      "metadata": {
        "id": "3z9mPWQaCKoP"
      },
      "execution_count": null,
      "outputs": []
    },
    {
      "cell_type": "code",
      "source": [],
      "metadata": {
        "id": "AlvHWCmfCKrN"
      },
      "execution_count": null,
      "outputs": []
    }
  ]
}