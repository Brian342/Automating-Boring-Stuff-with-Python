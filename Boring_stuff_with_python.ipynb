{
  "nbformat": 4,
  "nbformat_minor": 0,
  "metadata": {
    "colab": {
      "provenance": [],
      "authorship_tag": "ABX9TyMhI1d2M6yGVjeHOnRNebfp",
      "include_colab_link": true
    },
    "kernelspec": {
      "name": "python3",
      "display_name": "Python 3"
    },
    "language_info": {
      "name": "python"
    }
  },
  "cells": [
    {
      "cell_type": "markdown",
      "metadata": {
        "id": "view-in-github",
        "colab_type": "text"
      },
      "source": [
        "<a href=\"https://colab.research.google.com/github/Brian342/Automating-Boring-Stuff-with-Python/blob/main/Boring_stuff_with_python.ipynb\" target=\"_parent\"><img src=\"https://colab.research.google.com/assets/colab-badge.svg\" alt=\"Open In Colab\"/></a>"
      ]
    },
    {
      "cell_type": "markdown",
      "source": [
        "# Matching one or more with the plus"
      ],
      "metadata": {
        "id": "A8Z43g9H_cdf"
      }
    },
    {
      "cell_type": "code",
      "source": [
        "import regex as re\n",
        "batRegex = re.compile(r'Bat(wo)+man')\n",
        "mo1 = batRegex.search('The adventures of Batwoman')\n",
        "print(mo1.group())"
      ],
      "metadata": {
        "colab": {
          "base_uri": "https://localhost:8080/"
        },
        "id": "jYWrnaYS_bEH",
        "outputId": "f26d3c3b-f89d-4c1e-cdff-98c821c0f38d"
      },
      "execution_count": null,
      "outputs": [
        {
          "output_type": "stream",
          "name": "stdout",
          "text": [
            "Batwoman\n"
          ]
        }
      ]
    },
    {
      "cell_type": "code",
      "source": [
        "mo2 = batRegex.search('the adventures of Batwowowoman')\n",
        "print(mo2.group())"
      ],
      "metadata": {
        "colab": {
          "base_uri": "https://localhost:8080/"
        },
        "id": "ZKjNToxXCJhx",
        "outputId": "6c10de0e-d7b6-48d4-f17e-3f6cf80a30aa"
      },
      "execution_count": null,
      "outputs": [
        {
          "output_type": "stream",
          "name": "stdout",
          "text": [
            "Batwowowoman\n"
          ]
        }
      ]
    },
    {
      "cell_type": "code",
      "source": [
        "mo3 = batRegex.search('the adventures of Batman')\n",
        "print(mo3 == None)"
      ],
      "metadata": {
        "colab": {
          "base_uri": "https://localhost:8080/"
        },
        "id": "lJWAsTQxCJ4s",
        "outputId": "f1ce64cf-f6bc-432c-b0fb-eca27938d886"
      },
      "execution_count": null,
      "outputs": [
        {
          "output_type": "stream",
          "name": "stdout",
          "text": [
            "True\n"
          ]
        }
      ]
    },
    {
      "cell_type": "markdown",
      "source": [
        "# Matching Specific Repetitions with curly Brackest"
      ],
      "metadata": {
        "id": "peQhYWCnEMqp"
      }
    },
    {
      "cell_type": "code",
      "source": [
        "haRegex = re.compile(r'(Ha){3}')\n",
        "mo1 = haRegex.search('HaHaHa')\n",
        "print(mo1.group())"
      ],
      "metadata": {
        "colab": {
          "base_uri": "https://localhost:8080/"
        },
        "id": "hy822N4cCJ85",
        "outputId": "19701b28-2b01-4e2b-a7b2-4033ac606ad2"
      },
      "execution_count": null,
      "outputs": [
        {
          "output_type": "stream",
          "name": "stdout",
          "text": [
            "HaHaHa\n"
          ]
        }
      ]
    },
    {
      "cell_type": "code",
      "source": [
        "mo2 = haRegex.search('Ha')\n",
        "print(mo2 == None)"
      ],
      "metadata": {
        "colab": {
          "base_uri": "https://localhost:8080/"
        },
        "id": "6yrW0eL7CKAn",
        "outputId": "f27cde39-cf72-496e-a1c9-9780d24dc1fd"
      },
      "execution_count": null,
      "outputs": [
        {
          "output_type": "stream",
          "name": "stdout",
          "text": [
            "True\n"
          ]
        }
      ]
    },
    {
      "cell_type": "markdown",
      "source": [
        "# Greedy and Nongreedy Matching\n"
      ],
      "metadata": {
        "id": "1AZjdImJHLkM"
      }
    },
    {
      "cell_type": "code",
      "source": [
        "greedyHaRegex = re.compile(r'(Ha){3,5}')\n",
        "mo1 = greedyHaRegex.search('HaHaHaHaHaHa')\n",
        "print(mo1.group())"
      ],
      "metadata": {
        "colab": {
          "base_uri": "https://localhost:8080/"
        },
        "id": "OKQRsHSbCKDw",
        "outputId": "d41fb869-6e7c-4a8c-d891-eeb3158c707d"
      },
      "execution_count": null,
      "outputs": [
        {
          "output_type": "stream",
          "name": "stdout",
          "text": [
            "HaHaHaHaHa\n"
          ]
        }
      ]
    },
    {
      "cell_type": "code",
      "source": [
        "nongreedyHaRegex = re.compile(r'(Ha){3,5}?')\n",
        "mo2 = nongreedyHaRegex.search('HaHaHaHaHaHa')\n",
        "print(mo2.group())"
      ],
      "metadata": {
        "colab": {
          "base_uri": "https://localhost:8080/"
        },
        "id": "u-dx83T-CKHZ",
        "outputId": "1c354eda-8719-4ab9-b8fb-36a9fe47a3cf"
      },
      "execution_count": null,
      "outputs": [
        {
          "output_type": "stream",
          "name": "stdout",
          "text": [
            "HaHaHa\n"
          ]
        }
      ]
    },
    {
      "cell_type": "markdown",
      "source": [
        "# The findall() method"
      ],
      "metadata": {
        "id": "We1CeaLOIb4f"
      }
    },
    {
      "cell_type": "code",
      "source": [
        "phoneNumRegex = re.compile(r'\\d\\d\\d-\\d\\d\\d-\\d\\d\\d\\d')\n",
        "mo = phoneNumRegex.search('cell:415-555-9999 work:222-555-0000')\n",
        "print(mo.group())"
      ],
      "metadata": {
        "colab": {
          "base_uri": "https://localhost:8080/"
        },
        "id": "C2N-Ruz4CKLL",
        "outputId": "1ddfca40-628b-464f-a374-3aeaa13aa992"
      },
      "execution_count": null,
      "outputs": [
        {
          "output_type": "stream",
          "name": "stdout",
          "text": [
            "415-555-9999\n"
          ]
        }
      ]
    },
    {
      "cell_type": "code",
      "source": [
        "phoneNumRegex = re.compile(r'\\d\\d\\d-\\d\\d\\d-\\d\\d\\d\\d') # has no groups\n",
        "phoneNumRegex.findall('cell:415-555-9999 work:222-555-0000')"
      ],
      "metadata": {
        "id": "bSb-wfYlCKN5"
      },
      "execution_count": null,
      "outputs": []
    },
    {
      "cell_type": "code",
      "source": [
        " phoneNumRegex = re.compile(r'\\d\\d\\d-\\d\\d\\d-\\d\\d\\d\\d') # has no groups\n",
        " phoneNumRegex.findall('cell:415-555-9999 work:222-555-0000')"
      ],
      "metadata": {
        "id": "ixGVgERxCKRv",
        "colab": {
          "base_uri": "https://localhost:8080/"
        },
        "outputId": "560a09f5-6a93-4a8b-b303-368c90f7f5df"
      },
      "execution_count": null,
      "outputs": [
        {
          "output_type": "execute_result",
          "data": {
            "text/plain": [
              "['415-555-9999', '222-555-0000']"
            ]
          },
          "metadata": {},
          "execution_count": 3
        }
      ]
    },
    {
      "cell_type": "code",
      "source": [
        "phoneNumRegex = re.compile(r'(\\d\\d\\d)-(\\d\\d\\d)-(\\d\\d\\d\\d)') # has groups\n",
        "phoneNumRegex.findall('cell:415-555-9999 work:222-555-0000')"
      ],
      "metadata": {
        "id": "cjkMlgRrCKWD",
        "colab": {
          "base_uri": "https://localhost:8080/"
        },
        "outputId": "80a0e48a-72bc-4911-e4a9-d7b4721eea99"
      },
      "execution_count": null,
      "outputs": [
        {
          "output_type": "execute_result",
          "data": {
            "text/plain": [
              "[('415', '555', '9999'), ('222', '555', '0000')]"
            ]
          },
          "metadata": {},
          "execution_count": 4
        }
      ]
    },
    {
      "cell_type": "markdown",
      "source": [
        "# Character Classes"
      ],
      "metadata": {
        "id": "bdbSYu8s2ATN"
      }
    },
    {
      "cell_type": "code",
      "source": [
        "xmasRegex = re.compile(r'\\d+\\s\\w+')\n",
        "xmasRegex.findall('12 drummers, 11 pipers, 10 lords, 9 ladies, 8 maids, 7 swans,\\\n",
        " 6 geese, 5 rings, 4 birds, 3 hens, 2 doves, 1 partridge') # returns all the matching regex pattern in a list"
      ],
      "metadata": {
        "id": "JdMjM-lxCKly",
        "colab": {
          "base_uri": "https://localhost:8080/"
        },
        "outputId": "55e195af-64bf-4a3c-d342-c1991d2b06b8"
      },
      "execution_count": null,
      "outputs": [
        {
          "output_type": "execute_result",
          "data": {
            "text/plain": [
              "['12 drummers',\n",
              " '11 pipers',\n",
              " '10 lords',\n",
              " '9 ladies',\n",
              " '8 maids',\n",
              " '7 swans',\n",
              " '6 geese',\n",
              " '5 rings',\n",
              " '4 birds',\n",
              " '3 hens',\n",
              " '2 doves',\n",
              " '1 partridge']"
            ]
          },
          "metadata": {},
          "execution_count": 5
        }
      ]
    },
    {
      "cell_type": "markdown",
      "source": [
        "# Making your own Character Classes"
      ],
      "metadata": {
        "id": "9w73z57z3sKf"
      }
    },
    {
      "cell_type": "code",
      "source": [
        "vowelRegex = re.compile(r'[aeiouAEIOU]')\n",
        "vowelRegex.findall('Robocop eats baby food. BABY FOOD.')"
      ],
      "metadata": {
        "id": "3z9mPWQaCKoP",
        "colab": {
          "base_uri": "https://localhost:8080/"
        },
        "outputId": "f32bd5f6-fedb-4a15-89ef-aac5473f8968"
      },
      "execution_count": null,
      "outputs": [
        {
          "output_type": "execute_result",
          "data": {
            "text/plain": [
              "['o', 'o', 'o', 'e', 'a', 'a', 'o', 'o', 'A', 'O', 'O']"
            ]
          },
          "metadata": {},
          "execution_count": 6
        }
      ]
    },
    {
      "cell_type": "code",
      "source": [
        "consonantregex = re.compile(r'[^aeiouAEIOU]') # used to make a negative character class. A negative character match all\n",
        "# the characters that are not in the character class\n",
        "consonantregex.findall('Robocop eats baby food. BABY FOOD.')"
      ],
      "metadata": {
        "id": "AlvHWCmfCKrN",
        "colab": {
          "base_uri": "https://localhost:8080/"
        },
        "outputId": "4a1c06d8-9f53-4dac-9915-fc78db5f792a"
      },
      "execution_count": null,
      "outputs": [
        {
          "output_type": "execute_result",
          "data": {
            "text/plain": [
              "['R',\n",
              " 'b',\n",
              " 'c',\n",
              " 'p',\n",
              " ' ',\n",
              " 't',\n",
              " 's',\n",
              " ' ',\n",
              " 'b',\n",
              " 'b',\n",
              " 'y',\n",
              " ' ',\n",
              " 'f',\n",
              " 'd',\n",
              " '.',\n",
              " ' ',\n",
              " 'B',\n",
              " 'B',\n",
              " 'Y',\n",
              " ' ',\n",
              " 'F',\n",
              " 'D',\n",
              " '.']"
            ]
          },
          "metadata": {},
          "execution_count": 7
        }
      ]
    },
    {
      "cell_type": "markdown",
      "source": [
        "# The caret and Dollar sign characters"
      ],
      "metadata": {
        "id": "O3yrNdRb5-8e"
      }
    },
    {
      "cell_type": "code",
      "source": [
        "print('Hello world')"
      ],
      "metadata": {
        "id": "k9arzT8D5XEa",
        "outputId": "dcfc058a-1d87-4d36-cb44-50a304cf4f83",
        "colab": {
          "base_uri": "https://localhost:8080/"
        }
      },
      "execution_count": 1,
      "outputs": [
        {
          "output_type": "stream",
          "name": "stdout",
          "text": [
            "Hello world\n"
          ]
        }
      ]
    },
    {
      "cell_type": "code",
      "source": [],
      "metadata": {
        "id": "gm0K9a2lTTNj"
      },
      "execution_count": null,
      "outputs": []
    }
  ]
}